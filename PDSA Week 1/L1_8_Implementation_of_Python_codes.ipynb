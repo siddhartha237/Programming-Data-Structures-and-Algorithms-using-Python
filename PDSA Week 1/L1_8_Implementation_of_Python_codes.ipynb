{
  "nbformat": 4,
  "nbformat_minor": 0,
  "metadata": {
    "colab": {
      "provenance": [],
      "authorship_tag": "ABX9TyM8j4jd/N7HFooZu9kbo0M7",
      "include_colab_link": true
    },
    "kernelspec": {
      "name": "python3",
      "display_name": "Python 3"
    },
    "language_info": {
      "name": "python"
    }
  },
  "cells": [
    {
      "cell_type": "markdown",
      "metadata": {
        "id": "view-in-github",
        "colab_type": "text"
      },
      "source": [
        "<a href=\"https://colab.research.google.com/github/siddhartha237/Programming-Data-Structures-and-Algorithms-using-Python/blob/main/L1_8_Implementation_of_Python_codes.ipynb\" target=\"_parent\"><img src=\"https://colab.research.google.com/assets/colab-badge.svg\" alt=\"Open In Colab\"/></a>"
      ]
    },
    {
      "cell_type": "markdown",
      "source": [
        "## **Classes and Objects**"
      ],
      "metadata": {
        "id": "IbJXhcnvuWDr"
      }
    },
    {
      "cell_type": "code",
      "execution_count": 1,
      "metadata": {
        "id": "X0sD-79ouQWl"
      },
      "outputs": [],
      "source": [
        "class Point():\n",
        "  def __init__(self, a = 0, b = 0):\n",
        "    self.x = a\n",
        "    self.y = b\n",
        "\n",
        "  def translate(self, deltax, deltay):\n",
        "    self.x += deltax\n",
        "    self.y += deltay\n",
        "\n",
        "  def odistance(self):\n",
        "    import math\n",
        "    d = math.sqrt(self.x**2 + self.y**2)\n",
        "    return d"
      ]
    },
    {
      "cell_type": "code",
      "source": [
        "p = Point(3, 4)\n",
        "q = Point(5, 12)"
      ],
      "metadata": {
        "id": "0JET-vuhvwID"
      },
      "execution_count": 2,
      "outputs": []
    },
    {
      "cell_type": "code",
      "source": [
        "print(p)"
      ],
      "metadata": {
        "colab": {
          "base_uri": "https://localhost:8080/"
        },
        "id": "3SoIMhKJv-cR",
        "outputId": "166268bc-3e12-4acc-869d-3683ff079632"
      },
      "execution_count": 5,
      "outputs": [
        {
          "output_type": "stream",
          "name": "stdout",
          "text": [
            "<__main__.Point object at 0x7a1b086866e0>\n"
          ]
        }
      ]
    },
    {
      "cell_type": "code",
      "source": [
        "p.odistance(), q.odistance()"
      ],
      "metadata": {
        "colab": {
          "base_uri": "https://localhost:8080/"
        },
        "id": "jOlTnjitwAYV",
        "outputId": "50665bc6-29fd-44c7-98b4-ae3a9d26003a"
      },
      "execution_count": 7,
      "outputs": [
        {
          "output_type": "execute_result",
          "data": {
            "text/plain": [
              "(5.0, 13.0)"
            ]
          },
          "metadata": {},
          "execution_count": 7
        }
      ]
    },
    {
      "cell_type": "code",
      "source": [
        "p.r()"
      ],
      "metadata": {
        "colab": {
          "base_uri": "https://localhost:8080/",
          "height": 141
        },
        "id": "OA4KU_3xwIU0",
        "outputId": "5aa2ca14-41e6-430b-a843-196bec130fba"
      },
      "execution_count": 6,
      "outputs": [
        {
          "output_type": "error",
          "ename": "AttributeError",
          "evalue": "'Point' object has no attribute 'r'",
          "traceback": [
            "\u001b[0;31m---------------------------------------------------------------------------\u001b[0m",
            "\u001b[0;31mAttributeError\u001b[0m                            Traceback (most recent call last)",
            "\u001b[0;32m<ipython-input-6-030c23d46135>\u001b[0m in \u001b[0;36m<cell line: 1>\u001b[0;34m()\u001b[0m\n\u001b[0;32m----> 1\u001b[0;31m \u001b[0mp\u001b[0m\u001b[0;34m.\u001b[0m\u001b[0mr\u001b[0m\u001b[0;34m(\u001b[0m\u001b[0;34m)\u001b[0m\u001b[0;34m\u001b[0m\u001b[0;34m\u001b[0m\u001b[0m\n\u001b[0m",
            "\u001b[0;31mAttributeError\u001b[0m: 'Point' object has no attribute 'r'"
          ]
        }
      ]
    },
    {
      "cell_type": "code",
      "source": [
        "class Point():\n",
        "  def __init__(self, a = 0, b = 0):\n",
        "    import math\n",
        "    self.r = math.sqrt(a**2 + b**2)\n",
        "    if a == 0:\n",
        "      self.theta = 0\n",
        "    else:\n",
        "      self.theta = math.atan(b/a)\n",
        "\n",
        "  def odistance(self):\n",
        "    return self.r\n",
        "\n",
        "  def translate(self, deltax, deltay):\n",
        "    import math\n",
        "    x = self.r * math.cos(self.theta)\n",
        "    y = self.r * math.sin(self.theta)\n",
        "    x += deltax\n",
        "    y += deltay\n",
        "    self.r = math.sqrt(x**2 + y**2)\n",
        "    if x == 0:\n",
        "      self.theta = 0\n",
        "    else:\n",
        "      self.theta = math.atan(y/x)"
      ],
      "metadata": {
        "id": "r9Z36O3FwUiq"
      },
      "execution_count": 9,
      "outputs": []
    },
    {
      "cell_type": "code",
      "source": [
        "p = Point(3, 4)\n",
        "q = Point(5, 12)"
      ],
      "metadata": {
        "id": "whiMhClHyPbX"
      },
      "execution_count": 10,
      "outputs": []
    },
    {
      "cell_type": "code",
      "source": [
        "print(p)"
      ],
      "metadata": {
        "colab": {
          "base_uri": "https://localhost:8080/"
        },
        "id": "7PakPXUHyRsP",
        "outputId": "644a88e2-f661-4c14-9cb4-16bd197cb26c"
      },
      "execution_count": 11,
      "outputs": [
        {
          "output_type": "stream",
          "name": "stdout",
          "text": [
            "<__main__.Point object at 0x7a1b086844c0>\n"
          ]
        }
      ]
    },
    {
      "cell_type": "code",
      "source": [
        "p.odistance(), q.odistance()"
      ],
      "metadata": {
        "colab": {
          "base_uri": "https://localhost:8080/"
        },
        "id": "pd6X12vgyWUv",
        "outputId": "e9b32aca-a3a6-4d9c-df7b-b6267bc07b03"
      },
      "execution_count": 12,
      "outputs": [
        {
          "output_type": "execute_result",
          "data": {
            "text/plain": [
              "(5.0, 13.0)"
            ]
          },
          "metadata": {},
          "execution_count": 12
        }
      ]
    },
    {
      "cell_type": "code",
      "source": [
        "p.r, p.theta"
      ],
      "metadata": {
        "colab": {
          "base_uri": "https://localhost:8080/"
        },
        "id": "hUGIJzwhyY1O",
        "outputId": "0e065630-98c1-409a-fad2-cd46b6cb524a"
      },
      "execution_count": 16,
      "outputs": [
        {
          "output_type": "execute_result",
          "data": {
            "text/plain": [
              "(5.0, 0.9272952180016122)"
            ]
          },
          "metadata": {},
          "execution_count": 16
        }
      ]
    },
    {
      "cell_type": "code",
      "source": [
        "class Point():\n",
        "  def __init__(self, a = 0, b = 0):\n",
        "    self.x = a\n",
        "    self.y = b\n",
        "\n",
        "  def translate(self, deltax, deltay):\n",
        "    self.x += deltax\n",
        "    self.y += deltay\n",
        "\n",
        "  def odistance(self):\n",
        "    import math\n",
        "    d = math.sqrt(self.x**2 + self.y**2)\n",
        "    return d\n",
        "\n",
        "  def __str__(self):\n",
        "    return (\"(\" + str(self.x) + \",\" + str(self.y) + \")\")\n",
        "\n",
        "  def __add__(self, p):\n",
        "    return Point(self.x + p.x, self.y + p.y)"
      ],
      "metadata": {
        "id": "uN3CCAHnya6e"
      },
      "execution_count": 17,
      "outputs": []
    },
    {
      "cell_type": "code",
      "source": [
        "p = Point(3, 4)\n",
        "q = Point(5, 12)"
      ],
      "metadata": {
        "id": "LaQb3jwK0YD_"
      },
      "execution_count": 18,
      "outputs": []
    },
    {
      "cell_type": "code",
      "source": [
        "print(p+q)"
      ],
      "metadata": {
        "colab": {
          "base_uri": "https://localhost:8080/"
        },
        "id": "_wslq1-v0ZrM",
        "outputId": "4feb8535-ba95-49f8-eff4-cc824770e31f"
      },
      "execution_count": 19,
      "outputs": [
        {
          "output_type": "stream",
          "name": "stdout",
          "text": [
            "(8,16)\n"
          ]
        }
      ]
    }
  ]
}
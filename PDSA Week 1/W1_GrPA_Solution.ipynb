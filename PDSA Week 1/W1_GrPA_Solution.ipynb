{
  "nbformat": 4,
  "nbformat_minor": 0,
  "metadata": {
    "colab": {
      "provenance": [],
      "authorship_tag": "ABX9TyOZaTgw1Bg8poEbmfWfXEBZ",
      "include_colab_link": true
    },
    "kernelspec": {
      "name": "python3",
      "display_name": "Python 3"
    },
    "language_info": {
      "name": "python"
    }
  },
  "cells": [
    {
      "cell_type": "markdown",
      "metadata": {
        "id": "view-in-github",
        "colab_type": "text"
      },
      "source": [
        "<a href=\"https://colab.research.google.com/github/siddhartha237/Programming-Data-Structures-and-Algorithms-using-Python/blob/main/W1_GrPA_Solution.ipynb\" target=\"_parent\"><img src=\"https://colab.research.google.com/assets/colab-badge.svg\" alt=\"Open In Colab\"/></a>"
      ]
    },
    {
      "cell_type": "markdown",
      "source": [
        "### **Problem 1: Find Minimum Difference**\n",
        "\n",
        "Write a function `find_Min_Difference(L, P)` that accepts a list `L` of integers and `P` (positive integer) where the size of `L` is greater than `P`. The task is to pick `P` different elements from the list `L`, where the difference between the maximum value and the minimum value in the selected elements is minimized compared to other differences in possible subsets of `P` elements. The function should return this minimum difference value.\n",
        "\n",
        "**Note**:  \n",
        "- The list can contain more than one subset of `P` elements that have the same minimum difference value.\n",
        "\n",
        "---\n",
        "\n",
        "#### Example:\n",
        "\n",
        "Let `L = [3, 4, 1, 9, 56, 7, 9, 12, 13]` and `P = 5`.\n",
        "\n",
        "Consider the following two subsets of 5 elements from `L`:\n",
        "\n",
        "- `[3, 4, 7, 9, 9]`  \n",
        "- `[7, 9, 9, 12, 13]`\n",
        "\n",
        "In both subsets, the difference between the maximum value and the minimum value is:\n",
        "\n",
        "- `9 - 3 = 6`\n",
        "- `13 - 7 = 6`\n",
        "\n",
        "Since the minimum difference value is `6`, the output will be `6`.\n",
        "\n",
        "---\n",
        "```python\n",
        "Sample Input:\n",
        "\n",
        "L = [3, 4, 1, 9, 56, 7, 9, 12, 13]\n",
        "P = 5\n",
        "\n",
        "Output:\n",
        "6\n"
      ],
      "metadata": {
        "id": "39NzQ_NF-CtE"
      }
    },
    {
      "cell_type": "markdown",
      "source": [
        "### **Step-by-Step Logic for `find_Min_Difference` Function**\n",
        "\n",
        "### 1. Start:\n",
        "   - The function begins by accepting two inputs: a list `L` and an integer `P`.\n",
        "\n",
        "### 2. Sort the List:\n",
        "   - The list `L` is sorted in ascending order. Sorting helps in finding the subsets where the difference between the largest and smallest elements is minimized.\n",
        "\n",
        "### 3. Set `N` to `P` and `M` to the Length of `L`:\n",
        "   - The value of `P` is assigned to a variable `N`.\n",
        "   - The length of the list `L` is stored in `M`.\n",
        "\n",
        "### 4. Initialize `min_diff`:\n",
        "   - `min_diff` is initialized to the maximum possible difference between the largest and smallest elements in the list `L`. This sets a baseline for comparison.\n",
        "\n",
        "### 5. Finding Minimum Difference:\n",
        "   - The loop runs from 0 to `M - N` (inclusive). This ensures we can access the last element of a subset of size N without going out of bounds.\n",
        "   - Inside the loop, the difference between the maximum `(L[i + N - 1])` and minimum `(L[i])` values of the current subset of size P is calculated.\n",
        "\n",
        "### 6. Updating Minimum Difference:\n",
        "   - If the current difference is smaller than the previously recorded `min_diff`, it updates `min_diff` to this new smaller value.\n",
        "\n",
        "### 7. Loop from `i = 0` to `M - N`:\n",
        "   - A loop is initiated, starting from `i = 0` and running until `M - N`. This loop checks every possible subset of size `P`.\n",
        "\n",
        "### 8. Compare the Difference:\n",
        "   - For each subset of size `P`, the difference between the largest element (`L[i + N - 1]`) and the smallest element (`L[i]`) is calculated.\n",
        "   - If the calculated difference is smaller than the current `min_diff`, `min_diff` is updated.\n",
        "\n",
        "### 9. End Loop:\n",
        "   - The loop continues until all possible subsets are checked, ensuring that the smallest difference has been found.\n",
        "\n",
        "### 10. Return the Result:\n",
        "   - The function returns `min_diff`, which now holds the smallest difference between the maximum and minimum values of any subset of size `P`.\n",
        "\n"
      ],
      "metadata": {
        "id": "iloORHARhqk5"
      }
    },
    {
      "cell_type": "code",
      "execution_count": null,
      "metadata": {
        "colab": {
          "base_uri": "https://localhost:8080/"
        },
        "id": "_UgA_Bzu9or1",
        "outputId": "37a2403a-2143-4dcc-f33c-4c7dcd987872"
      },
      "outputs": [
        {
          "output_type": "stream",
          "name": "stdout",
          "text": [
            "[3,3,3,3,3,3,3,3,3]\n",
            "4\n",
            "0\n"
          ]
        }
      ],
      "source": [
        "def find_Min_Difference(L, P):\n",
        "    L.sort()  # Step 1: Sort the list L in ascending order\n",
        "    N = P     # Step 2: Store the value of P in N for clarity\n",
        "    M = len(L)  # Step 3: Get the length of the list L\n",
        "    min_diff = max(L) - min(L)  # Step 4: Initialize min_diff with the maximum possible difference\n",
        "\n",
        "    # Step 5: Loop through the list to find the minimum difference\n",
        "    for i in range(M - N + 1):  # Iterate from 0 to M - P (inclusive)\n",
        "        if L[i + N - 1] - L[i] < min_diff:  # Compare the difference of the current subset\n",
        "            min_diff = L[i + N - 1] - L[i]  # Update min_diff if the current difference is smaller\n",
        "\n",
        "    return min_diff  # Step 6: Return the minimum difference found\n",
        "\n",
        "# Input Handling\n",
        "L = eval(input().strip())  # Get input for list L (e.g., [3, 4, 1, 9, 56, 7, 9, 12])\n",
        "P = int(input())  # Get input for P (e.g., 5)\n",
        "print(find_Min_Difference(L, P))  # Call the function and print the result\n"
      ]
    },
    {
      "cell_type": "markdown",
      "source": [
        "### **Problem 2: Goldbach's Conjecture**\n",
        "\n",
        "Goldbach's conjecture is one of the oldest and best-known unsolved problems in number theory. It states that every even number greater than 2 is the sum of two prime numbers.\n",
        "\n",
        "### **For Example:**\n",
        "- `12 = 5 + 7`\n",
        "- `26 = 3 + 23` or `7 + 19` or `13 + 13`\n",
        "\n",
        "---\n",
        "\n",
        "Write a function `Goldbach(n)` where `n` is a positive even number (`n > 2`) that returns a list of tuples. In each tuple `(a, b)` where `a <= b`, `a` and `b` should be prime numbers, and the sum of `a` and `b` should be equal to `n`."
      ],
      "metadata": {
        "id": "naYJZWSEncft"
      }
    },
    {
      "cell_type": "code",
      "source": [
        "def Is_Prime(n):\n",
        "  if n < 2:\n",
        "    return False\n",
        "  for i in range(2, int(n**(1/2)) + 1):\n",
        "    if n % i == 0:\n",
        "      return False\n",
        "  return True\n",
        "\n",
        "def Goldbach(n):\n",
        "  result = [ ]\n",
        "  for i in range(2, n //2 + 1):\n",
        "    if Is_Prime(i) and Is_Prime(n - i):\n",
        "      result.append((i, n - i))\n",
        "  return result"
      ],
      "metadata": {
        "id": "KZyPqA_9oxVR"
      },
      "execution_count": null,
      "outputs": []
    },
    {
      "cell_type": "markdown",
      "source": [
        "### **Problem 3: Odd One**\n",
        "\n",
        "Write a function named `odd_one(L)` that accepts a list `L` as an argument. Except for one element, all other elements in `L` are of the same data type. The function `odd_one` should return the data type of this odd element.\n",
        "\n",
        "For example, if `L` is equal to `[1, 2, 3.4, 5, 10]`, then the function should return the string `float`. This is because the element `3.4` is the odd one here, all other elements are integers.\n",
        "\n",
        "### Note\n",
        "1. `L` has at least three elements.\n",
        "2. For each test case, the elements in the list will only be of one of these four types: `int`, `float`, `str`, `bool`.\n",
        "3. The function must return one of these four strings: `int`, `float`, `str`, `bool`.\n",
        "4. **Hint**: `type(1) == int` evaluates to True.\n"
      ],
      "metadata": {
        "id": "gOs-DQgV-YQT"
      }
    },
    {
      "cell_type": "code",
      "source": [
        "def odd_one(L):\n",
        "  P = {}\n",
        "  for elem in L:\n",
        "    if type(elem) not in P:\n",
        "      P[type(elem)] = 0\n",
        "    P[type(elem)] += 1\n",
        "  for key, value in P.items():\n",
        "    if value == 1:\n",
        "      return key.__name__\n",
        "print(odd_one(eval(input().strip())))"
      ],
      "metadata": {
        "colab": {
          "base_uri": "https://localhost:8080/"
        },
        "id": "My5TJyQ8LzSF",
        "outputId": "5dbe9364-be73-4a13-c040-6bfd6da42031"
      },
      "execution_count": null,
      "outputs": [
        {
          "output_type": "stream",
          "name": "stdout",
          "text": [
            "[2,13,16,4.5]\n",
            "float\n"
          ]
        }
      ]
    },
    {
      "cell_type": "code",
      "source": [
        "def odd_one(L):\n",
        "  d = { }\n",
        "  for x in L:\n",
        "    if type(x) not in d:\n",
        "      d[type(x)] = 0\n",
        "    d[type(x)] += 1\n",
        "  for key, value in d.items():\n",
        "    if value == 1:\n",
        "      return key\n",
        "\n",
        "print(odd_one(eval(input().strip())))"
      ],
      "metadata": {
        "colab": {
          "base_uri": "https://localhost:8080/"
        },
        "id": "yfVDxVs0At2P",
        "outputId": "71a31ed9-9da5-4a43-f7b9-c793e0b1592e"
      },
      "execution_count": null,
      "outputs": [
        {
          "output_type": "stream",
          "name": "stdout",
          "text": [
            "[2,13,16,4.5]\n",
            "<class 'float'>\n"
          ]
        }
      ]
    }
  ]
}
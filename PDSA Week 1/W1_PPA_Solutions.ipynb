{
  "nbformat": 4,
  "nbformat_minor": 0,
  "metadata": {
    "colab": {
      "provenance": [],
      "authorship_tag": "ABX9TyPKuJy3RNSDvRA4GNqznDef",
      "include_colab_link": true
    },
    "kernelspec": {
      "name": "python3",
      "display_name": "Python 3"
    },
    "language_info": {
      "name": "python"
    }
  },
  "cells": [
    {
      "cell_type": "markdown",
      "metadata": {
        "id": "view-in-github",
        "colab_type": "text"
      },
      "source": [
        "<a href=\"https://colab.research.google.com/github/siddhartha237/Programming-Data-Structures-and-Algorithms-using-Python/blob/main/W1_PPA_Solutions.ipynb\" target=\"_parent\"><img src=\"https://colab.research.google.com/assets/colab-badge.svg\" alt=\"Open In Colab\"/></a>"
      ]
    },
    {
      "cell_type": "markdown",
      "source": [
        "### **Twin Primes Function**\n",
        "\n",
        "**Description**:  \n",
        "Twin primes are pairs of prime numbers that differ by 2. For example, (3, 5), (5, 7), and (11, 13) are twin primes. The function `Twin_Primes(n, m)` accepts two positive integers `n` and `m` (where `n < m`) and returns all unique twin primes between `n` and `m` (both inclusive). The function returns a list of tuples, and each tuple `(a, b)` represents one unique twin prime where `n <= a < b <= m`.\n"
      ],
      "metadata": {
        "id": "TCGbShIqqbZL"
      }
    },
    {
      "cell_type": "code",
      "execution_count": 1,
      "metadata": {
        "colab": {
          "base_uri": "https://localhost:8080/"
        },
        "id": "rfGh-edrqI4a",
        "outputId": "76c5efe3-5872-49d7-dc0c-00d01ff56087"
      },
      "outputs": [
        {
          "output_type": "stream",
          "name": "stdout",
          "text": [
            "1\n",
            "15\n",
            "[(3, 5), (5, 7), (11, 13)]\n"
          ]
        }
      ],
      "source": [
        "import math\n",
        "def prime(n):\n",
        "  if n < 2:\n",
        "    return False\n",
        "  for i in range(2, math.floor(math.sqrt(n)) + 1):\n",
        "    if n % i == 0:\n",
        "      return False\n",
        "  return True\n",
        "\n",
        "\n",
        "def Twin_Primes(n, m):\n",
        "    t_p = [ ]\n",
        "    for i in range(n, m + 1):\n",
        "        if prime(i):\n",
        "            lastprime = i\n",
        "            for j in range(i+1, m+1):\n",
        "                if prime(j):\n",
        "                    d = j - lastprime\n",
        "                    if d == 2:\n",
        "                        t_p.append ((i, j))\n",
        "    return t_p\n",
        "\n",
        "n=int(input())\n",
        "m=int(input())\n",
        "print(sorted(Twin_Primes(n, m)))"
      ]
    },
    {
      "cell_type": "markdown",
      "source": [
        "### **Triangle Class**\n",
        "\n",
        "Create a `Triangle` class that accepts three side-lengths of the triangle as `a`, `b`, and `c` as parameters at the time of object creation. Class `Triangle` should have the following methods:\n",
        "\n",
        "---\n",
        "\n",
        "#### `Is_valid()`\n",
        "- Returns `Valid` if the triangle is valid, otherwise returns `Invalid`.\n",
        "- A triangle is valid when the sum of its two side-lengths is greater than the third one. That means the triangle is valid if all three conditions are satisfied:\n",
        "  - `a + b > c`\n",
        "  - `a + c > b`\n",
        "  - `b + c > a`\n",
        "\n",
        "---\n",
        "\n",
        "#### `Side_Classification()`\n",
        "- If the triangle is invalid, then return `Invalid`. Otherwise, it returns the type of triangle according to the sides of the triangle as follows:\n",
        "  - Return `Equilateral` if all sides are of equal length.\n",
        "  - Return `Isosceles` if any two sides are of equal length and the third is different.\n",
        "  - Return `Scalene` if all sides are of different lengths.\n",
        "\n",
        "---\n",
        "\n",
        "#### `Angle_Classification()`\n",
        "- If the triangle is invalid, then return `Invalid`. Otherwise, return the type of triangle using the Pythagoras theorem.\n",
        "- For example, if `a <= b <= c`, then:\n",
        "  - If $a^2 + b^2 > c^2$, return `Acute`.\n",
        "  - If $a^2 + b^2 = c^2$, return `Right`.\n",
        "  - If $a^2 + b^2 < c^2$, return `Obtuse`.\n",
        "  \n",
        "- In the formula of angle classification, the square of the largest side length should be compared to the sum of squares of the other two side lengths.\n",
        "\n",
        "---\n",
        "\n",
        "#### `Area()`\n",
        "- If the triangle is invalid, then return `Invalid`. Otherwise, return the area of the triangle.\n",
        "- The area formula is:\n",
        "\n",
        "  $\n",
        "  \\text{Area} = \\sqrt{s(s - a)(s - b)(s - c)}\n",
        "  $\n",
        "\n",
        "  Where:\n",
        "\n",
        "  $\n",
        "  s = \\frac{(a + b + c)}{2}\n",
        "  $\n"
      ],
      "metadata": {
        "id": "qjbqfqsxrBYK"
      }
    },
    {
      "cell_type": "code",
      "source": [
        "class Triangle:\n",
        "    def __init__(self, a, b, c):\n",
        "        self.a = a\n",
        "        self.b = b\n",
        "        self.c = c\n",
        "\n",
        "    def Is_valid(self):\n",
        "        if self.a + self.b > self.c and self.a + self.c > self.b and self.b + self.c > self.a:\n",
        "            return 'Valid'\n",
        "        return 'Invalid'\n",
        "\n",
        "    def Side_Classification(self):\n",
        "        if self.Is_valid() == 'Invalid':\n",
        "            return 'Invalid'\n",
        "        elif self.a == self.b == self.c:\n",
        "            return \"Equilateral\"\n",
        "        elif self.a == self.b or self.b == self.c or self.a == self.c:\n",
        "            return \"Isosceles\"\n",
        "        else:\n",
        "            return \"Scalene\"\n",
        "\n",
        "    def Angle_Classification(self):\n",
        "        if self.Is_valid() == 'Invalid':\n",
        "            return 'Invalid'\n",
        "        elif self.a <= self.b <= self.c:\n",
        "            if self.a ** 2 + self.b ** 2 > self.c **2:\n",
        "                return 'Acute'\n",
        "            elif self.a ** 2 + self.b ** 2 == self.c **2:\n",
        "                return 'Right'\n",
        "            else:\n",
        "                return 'Obtuse'\n",
        "        elif self.b <= self.c <= self.a:\n",
        "            if self.b ** 2 + self.c ** 2 > self.a **2:\n",
        "                return 'Acute'\n",
        "            elif self.b ** 2 + self.c ** 2 == self.a **2:\n",
        "                return 'Right'\n",
        "            else:\n",
        "                return 'Obtuse'\n",
        "        elif self.c <= self.a <= self.b:\n",
        "            if self.c ** 2 + self.a ** 2 > self.b **2:\n",
        "                return 'Acute'\n",
        "            elif self.c ** 2 + self.a ** 2 == self.b **2:\n",
        "                return 'Right'\n",
        "            else:\n",
        "                return 'Obtuse'\n",
        "\n",
        "    def Area(self):\n",
        "        if self.Is_valid() == 'Invalid':\n",
        "            return 'Invalid'\n",
        "        else:\n",
        "            s = (self.a + self.b + self.c) / 2\n",
        "            area = (s * (s - self.a) *  (s - self.b) * (s - self.c))**(1/2)\n",
        "            return area\n",
        "\n",
        "a=int(input())\n",
        "b=int(input())\n",
        "c=int(input())\n",
        "T=Triangle(a,b,c)\n",
        "print(T.Is_valid())\n",
        "print(T.Side_Classification())\n",
        "print(T.Angle_Classification())\n",
        "print(T.Area())"
      ],
      "metadata": {
        "colab": {
          "base_uri": "https://localhost:8080/"
        },
        "id": "oiPbfyyN8vnq",
        "outputId": "fe344cc8-95e7-4ebc-8dcb-c630b41cd82d"
      },
      "execution_count": 2,
      "outputs": [
        {
          "output_type": "stream",
          "name": "stdout",
          "text": [
            "2\n",
            "3\n",
            "4\n",
            "Valid\n",
            "Scalene\n",
            "Obtuse\n",
            "2.9047375096555625\n"
          ]
        }
      ]
    }
  ]
}
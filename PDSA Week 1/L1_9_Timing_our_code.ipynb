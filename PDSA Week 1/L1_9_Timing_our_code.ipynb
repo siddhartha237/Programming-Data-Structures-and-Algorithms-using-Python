{
  "nbformat": 4,
  "nbformat_minor": 0,
  "metadata": {
    "colab": {
      "provenance": [],
      "authorship_tag": "ABX9TyNRgpQYVseawOz19qfCuhXT",
      "include_colab_link": true
    },
    "kernelspec": {
      "name": "python3",
      "display_name": "Python 3"
    },
    "language_info": {
      "name": "python"
    }
  },
  "cells": [
    {
      "cell_type": "markdown",
      "metadata": {
        "id": "view-in-github",
        "colab_type": "text"
      },
      "source": [
        "<a href=\"https://colab.research.google.com/github/siddhartha237/Programming-Data-Structures-and-Algorithms-using-Python/blob/main/L1_9_Timing_our_code.ipynb\" target=\"_parent\"><img src=\"https://colab.research.google.com/assets/colab-badge.svg\" alt=\"Open In Colab\"/></a>"
      ]
    },
    {
      "cell_type": "markdown",
      "source": [
        "### **Timing Code Execution in Python**\n",
        "\n",
        "How long does our code take to execute?\n",
        "\n",
        "- It depends on the language being used.\n",
        "- Python has a `time` library with various useful functions.\n",
        "- `perf_counter()` is a high-resolution performance counter.\n",
        "  - The absolute value of `perf_counter()` is not meaningful on its own.\n",
        "  - Instead, compare two consecutive readings to calculate an interval.\n",
        "  - The default unit is seconds.\n",
        "  - `elapsed` will hold the time in seconds that the code took to execute.\n",
        "\n",
        "```python\n",
        "import time\n",
        "start = time.perf_counter()\n",
        "# ... Execute some code\n",
        "end = time.perf_counter()\n",
        "elapsed = end - start\n"
      ],
      "metadata": {
        "id": "AhwoDE_8fRuB"
      }
    },
    {
      "cell_type": "markdown",
      "source": [
        "### **Creating a Timer Object in Python**\n",
        "\n",
        "We can create a `Timer` class to measure the execution time of code. The class will have:\n",
        "\n",
        "- Two internal values:\n",
        "  - `start_time`: Marks when the timer starts.\n",
        "  - `elapsed_time`: Holds the total elapsed time.\n",
        "  \n",
        "- Methods:\n",
        "  - `start()`: Starts the timer.\n",
        "  - `stop()`: Stops the timer and records the elapsed time.\n",
        "  - `elapsed()`: Returns the total elapsed time.\n",
        "  \n",
        "This can be further extended for more sophisticated use cases. Python can execute approximately $10^7$ operations per second.\n",
        "\n",
        "Here’s a basic implementation of the `Timer` class:\n",
        "\n",
        "```python\n",
        "import time\n",
        "\n",
        "class Timer:\n",
        "    def __init__(self):\n",
        "        self._start_time = 0\n",
        "        self._elapsed_time = 0\n",
        "    \n",
        "    def start(self):\n",
        "        self._start_time = time.perf_counter()\n",
        "    \n",
        "    def stop(self):\n",
        "        self._elapsed_time = time.perf_counter() - self._start_time\n",
        "    \n",
        "    def elapsed(self):\n",
        "        return self._elapsed_time\n"
      ],
      "metadata": {
        "id": "wo7wHwiNf1z2"
      }
    },
    {
      "cell_type": "markdown",
      "source": [
        "- After calling `start()`, the timer begins.\n",
        "- Once `stop()` is called, it calculates the time difference.\n",
        "- `elapsed()` returns the total time in seconds that has passed between the `start` and `stop` calls.\n"
      ],
      "metadata": {
        "id": "W80EGDaVgYP4"
      }
    }
  ]
}
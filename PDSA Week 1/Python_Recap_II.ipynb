{
  "nbformat": 4,
  "nbformat_minor": 0,
  "metadata": {
    "colab": {
      "provenance": [],
      "authorship_tag": "ABX9TyO+eGeb3pn8Upw2WCbJcRkS",
      "include_colab_link": true
    },
    "kernelspec": {
      "name": "python3",
      "display_name": "Python 3"
    },
    "language_info": {
      "name": "python"
    }
  },
  "cells": [
    {
      "cell_type": "markdown",
      "metadata": {
        "id": "view-in-github",
        "colab_type": "text"
      },
      "source": [
        "<a href=\"https://colab.research.google.com/github/siddhartha237/Programming-Data-Structures-and-Algorithms-using-Python/blob/main/Python_Recap_II.ipynb\" target=\"_parent\"><img src=\"https://colab.research.google.com/assets/colab-badge.svg\" alt=\"Open In Colab\"/></a>"
      ]
    },
    {
      "cell_type": "markdown",
      "source": [
        "**Find the list of factors of a given number.**"
      ],
      "metadata": {
        "id": "LEAvQkTlFd7M"
      }
    },
    {
      "cell_type": "code",
      "execution_count": 9,
      "metadata": {
        "colab": {
          "base_uri": "https://localhost:8080/"
        },
        "id": "Ee9kDSR90M__",
        "outputId": "ebdf87aa-88ac-4a23-d523-5472c74136ca"
      },
      "outputs": [
        {
          "output_type": "stream",
          "name": "stdout",
          "text": [
            "[1, 2, 5, 10]\n"
          ]
        }
      ],
      "source": [
        "# Factoring\n",
        "def factors(n):\n",
        "  fl = []   # factors list\n",
        "  for i in range(1, n + 1):\n",
        "    if n % i == 0:\n",
        "      fl.append(i)\n",
        "  return fl\n",
        "\n",
        "print(factors(10))"
      ]
    },
    {
      "cell_type": "markdown",
      "source": [
        "**Check whether a number is prime or not.**"
      ],
      "metadata": {
        "id": "btQa5gb8FDWC"
      }
    },
    {
      "cell_type": "code",
      "source": [
        "# Checking Primality\n",
        "def prime(n):\n",
        "  return (factors(n) == [1, n])"
      ],
      "metadata": {
        "id": "CC1y40oDB35F"
      },
      "execution_count": 8,
      "outputs": []
    },
    {
      "cell_type": "markdown",
      "source": [
        "**Counting Primes**\n",
        "1.   List all primes upto $m$\n",
        "2.   List the first $m$ primes"
      ],
      "metadata": {
        "id": "D7dLMFCyEYYU"
      }
    },
    {
      "cell_type": "code",
      "source": [
        "def primesupto(m):\n",
        "  pl = [ ]\n",
        "  for i in range(1, m + 1):\n",
        "    if prime(i):\n",
        "      pl.append(i)\n",
        "  return pl"
      ],
      "metadata": {
        "id": "N1ofxfmLCurA"
      },
      "execution_count": 11,
      "outputs": []
    },
    {
      "cell_type": "code",
      "source": [
        "def firstprimes(m):\n",
        "  (count, i, pl) = (0, 1, [])\n",
        "  while count < m:\n",
        "    if prime(i):\n",
        "      (count, pl) = (count + 1, pl + [i])\n",
        "    i += 1\n",
        "  return pl\n",
        "\n",
        "print(firstprimes(50))\n",
        "print(primesupto(50))"
      ],
      "metadata": {
        "colab": {
          "base_uri": "https://localhost:8080/"
        },
        "id": "7J3PFW7GE9Vn",
        "outputId": "811d01cd-506f-4ce4-b891-06ef2ffa1ed6"
      },
      "execution_count": 13,
      "outputs": [
        {
          "output_type": "stream",
          "name": "stdout",
          "text": [
            "[2, 3, 5, 7, 11, 13, 17, 19, 23, 29, 31, 37, 41, 43, 47, 53, 59, 61, 67, 71, 73, 79, 83, 89, 97, 101, 103, 107, 109, 113, 127, 131, 137, 139, 149, 151, 157, 163, 167, 173, 179, 181, 191, 193, 197, 199, 211, 223, 227, 229]\n",
            "[2, 3, 5, 7, 11, 13, 17, 19, 23, 29, 31, 37, 41, 43, 47]\n"
          ]
        }
      ]
    },
    {
      "cell_type": "markdown",
      "source": [
        "**Computing Primes**\n",
        "\n",
        "---\n",
        "\n",
        "\n"
      ],
      "metadata": {
        "id": "WGmTTdxBRrkd"
      }
    },
    {
      "cell_type": "code",
      "source": [
        "def prime(m):\n",
        "  result = True\n",
        "  for i in range(2, m):\n",
        "    if m % i == 0:\n",
        "      result = False\n",
        "  return result"
      ],
      "metadata": {
        "id": "4H9Xt-eZHzVT"
      },
      "execution_count": 14,
      "outputs": []
    },
    {
      "cell_type": "code",
      "source": [
        "def prime(m):\n",
        "  result = True\n",
        "  for i in range(2, m):\n",
        "    if m % i == 0:\n",
        "      result = False\n",
        "      break # Abort Loop\n",
        "  return result"
      ],
      "metadata": {
        "id": "GCnNDUlKSS2m"
      },
      "execution_count": null,
      "outputs": []
    },
    {
      "cell_type": "code",
      "source": [
        "def prime(m):\n",
        "  (result, i) = (True, 2)\n",
        "  while result and i < m:\n",
        "    if m % i == 0:\n",
        "      result = False\n",
        "    i += 1\n",
        "  return result"
      ],
      "metadata": {
        "id": "OgdXMEIvShiC"
      },
      "execution_count": 26,
      "outputs": []
    },
    {
      "cell_type": "code",
      "source": [
        "import math\n",
        "def prime(m):\n",
        "  (result, i) = (True, 2)\n",
        "  while result and i <= math.sqrt(m):\n",
        "    if m % i == 0:\n",
        "      result = False\n",
        "    i += 1\n",
        "  return result"
      ],
      "metadata": {
        "id": "4Vjo8da9ThAa"
      },
      "execution_count": 30,
      "outputs": []
    },
    {
      "cell_type": "markdown",
      "source": [
        "**Properties of Primes : Twin Primes**\n",
        "\n",
        "\n",
        "*   There are infinitely many primes\n",
        "*   Twin Primes : $p, p+2$\n",
        "*   Twin Primes Conjeture : There are infinitely many twin primes\n",
        "\n"
      ],
      "metadata": {
        "id": "wUhPfWzcUG24"
      }
    },
    {
      "cell_type": "code",
      "source": [
        "def primediffs(n):\n",
        "  lastprime = 2\n",
        "  pd = {} # Dictionary for prime differences\n",
        "  for i in range(3, n + 1):\n",
        "    if prime(i):\n",
        "      d = i - lastprime\n",
        "      lastprime = i\n",
        "      if d in pd.keys():\n",
        "        pd[d] = pd[d] + 1\n",
        "      else:\n",
        "        pd[d] = 1\n",
        "  return pd\n",
        "\n",
        "print(primediffs(100))"
      ],
      "metadata": {
        "colab": {
          "base_uri": "https://localhost:8080/"
        },
        "id": "mv5SnXrVXKBp",
        "outputId": "b54c4eec-fd61-429b-d63e-5bdef4abe8c8"
      },
      "execution_count": 32,
      "outputs": [
        {
          "output_type": "stream",
          "name": "stdout",
          "text": [
            "{1: 1, 2: 8, 4: 7, 6: 7, 8: 1}\n"
          ]
        }
      ]
    }
  ]
}
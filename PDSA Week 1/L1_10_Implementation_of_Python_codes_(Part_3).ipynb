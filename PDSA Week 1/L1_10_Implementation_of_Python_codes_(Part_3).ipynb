{
  "nbformat": 4,
  "nbformat_minor": 0,
  "metadata": {
    "colab": {
      "provenance": [],
      "authorship_tag": "ABX9TyOvoECWi3rOvgIhO30xBYWh",
      "include_colab_link": true
    },
    "kernelspec": {
      "name": "python3",
      "display_name": "Python 3"
    },
    "language_info": {
      "name": "python"
    }
  },
  "cells": [
    {
      "cell_type": "markdown",
      "metadata": {
        "id": "view-in-github",
        "colab_type": "text"
      },
      "source": [
        "<a href=\"https://colab.research.google.com/github/siddhartha237/Programming-Data-Structures-and-Algorithms-using-Python/blob/main/L1_10_Implementation_of_Python_codes_(Part_3).ipynb\" target=\"_parent\"><img src=\"https://colab.research.google.com/assets/colab-badge.svg\" alt=\"Open In Colab\"/></a>"
      ]
    },
    {
      "cell_type": "code",
      "source": [
        "# A Timer Class\n",
        "import time\n",
        "\n",
        "class TimerError(Exception):\n",
        "  '''A custom exception used to report errors in use of Timer class'''\n",
        "\n",
        "class Timer:\n",
        "  def __init__(self):\n",
        "    self._start_time = None\n",
        "    self._elapsed_time = None\n",
        "\n",
        "  def start(self):\n",
        "    '''Start a new timer'''\n",
        "    if self._start_time is not None:\n",
        "      raise TimerError('Timer is running. Use .stop() to stop it')\n",
        "    self._start_time = time.perf_counter()\n",
        "\n",
        "  def stop(self):\n",
        "    '''Save the elapsed time and re-initialize timer'''\n",
        "    if self._start_time is None:\n",
        "      raise TimerError('Timer is not running. Use .start() to start it')\n",
        "    self._elapsed_time = time.perf_counter() - self._start_time\n",
        "    self._start_time = None\n",
        "\n",
        "  def elapsed(self):\n",
        "    '''Report elapsed time'''\n",
        "    if self._elapsed_time is None:\n",
        "      raise TimerError('Timer is not running. Use .start() to start it')\n",
        "    return self._elapsed_time\n",
        "\n",
        "  def __str__(self):\n",
        "    '''Print elapsed time'''\n",
        "    return (str(self._elapsed_time))"
      ],
      "metadata": {
        "id": "lwEnV4DGsHYW"
      },
      "execution_count": 21,
      "outputs": []
    },
    {
      "cell_type": "code",
      "source": [
        "t = Timer()\n",
        "for j in range(4, 9):\n",
        "  t.start()\n",
        "  n = 0\n",
        "  for i in range(10**j):\n",
        "    n += 1\n",
        "  t.stop()\n",
        "  print(j, t)"
      ],
      "metadata": {
        "colab": {
          "base_uri": "https://localhost:8080/"
        },
        "id": "bUIrBIK5o66p",
        "outputId": "9ee38b34-8c26-48cd-f455-e2fc9ea761a6"
      },
      "execution_count": 22,
      "outputs": [
        {
          "output_type": "stream",
          "name": "stdout",
          "text": [
            "4 0.0017971659999602707\n",
            "5 0.01333724500000244\n",
            "6 0.11668312000006154\n",
            "7 1.1362144930000113\n",
            "8 12.151297924999994\n"
          ]
        }
      ]
    }
  ]
}
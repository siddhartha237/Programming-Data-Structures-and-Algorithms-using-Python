{
  "nbformat": 4,
  "nbformat_minor": 0,
  "metadata": {
    "colab": {
      "provenance": [],
      "authorship_tag": "ABX9TyNJ9PuC64avGd5hpV5NWfqq",
      "include_colab_link": true
    },
    "kernelspec": {
      "name": "python3",
      "display_name": "Python 3"
    },
    "language_info": {
      "name": "python"
    }
  },
  "cells": [
    {
      "cell_type": "markdown",
      "metadata": {
        "id": "view-in-github",
        "colab_type": "text"
      },
      "source": [
        "<a href=\"https://colab.research.google.com/github/siddhartha237/Programming-Data-Structures-and-Algorithms-using-Python/blob/main/Python_recap_III.ipynb\" target=\"_parent\"><img src=\"https://colab.research.google.com/assets/colab-badge.svg\" alt=\"Open In Colab\"/></a>"
      ]
    },
    {
      "cell_type": "code",
      "source": [
        "def gcd(m, n):\n",
        "  cf = []  # List of common factors\n",
        "  for i in range(1, min(m, n) + 1):\n",
        "    if m % i == 0 and n % i == 0:\n",
        "      cf.append(i)\n",
        "  return cf[-1]\n",
        "\n",
        "def gcd(m, n):\n",
        "  for i in range(1, min(m, n) + 1):\n",
        "    if m % i == 0 and n % i == 0:\n",
        "      mrcf = i\n",
        "  return mrcf"
      ],
      "metadata": {
        "id": "oNemAaK-5304"
      },
      "execution_count": null,
      "outputs": []
    },
    {
      "cell_type": "markdown",
      "source": [
        "### Computing GCD\n",
        "\n",
        "Both versions of GCD take time proportional to `min(m, n)`.\n",
        "\n",
        "**Can we do better?**  \n",
        "  \n",
        "Suppose `d` divides `m` and `n`  \n",
        "- `m = ad`, `n = bd`  \n",
        "- `m − n = (a − b)d`  \n",
        "- `d` also divides `m − n`\n",
        "\n",
        "Recursively defined function:  \n",
        "- **Base case:** `n` divides `m`, answer is `n`  \n",
        "- Otherwise, reduce `gcd(m, n)` to `gcd(n, m − n)`\n"
      ],
      "metadata": {
        "id": "lQY6wi2w5BPY"
      }
    },
    {
      "cell_type": "code",
      "execution_count": null,
      "metadata": {
        "id": "D7ujh1hv48oR"
      },
      "outputs": [],
      "source": [
        "def gcd(m, n):\n",
        "  (a, b) = (max(m, n), min(m, n))\n",
        "  if a % b == 0:\n",
        "    return b\n",
        "  else:\n",
        "    return gcd(b, a - b)"
      ]
    },
    {
      "cell_type": "markdown",
      "source": [
        "Unfortunately, the above code of computing GCD takes time proportional to `max(m, n)`.\n",
        "  \n",
        "Consider `gcd(2, 9999)`  \n",
        "→ `gcd(2, 9997)`  \n",
        "→ `gcd(2, 9995`  \n",
        ". . .  \n",
        "→ `gcd(2, 3)`  \n",
        "→ `gcd(2, 1)`  \n",
        "→ `1`\n",
        "  \n",
        "Approximately 5000 steps\n",
        "\n",
        "Can we do better ?\n",
        "\n",
        "# Euclid’s Algorithm\n",
        "\n",
        "- Suppose $n$ does not divide $m$.\n",
        "- Then $m$ as:  $m = qn+r$\n",
        "\n",
        "- Suppose $d$ divides both $m$ and $n$.\n",
        "- Then  $m = ad, n = bd$\n",
        "\n",
        "- Substituting into the equation for $m$ and $n$: $\n",
        "ad = q(bd) + r\n",
        "$\n",
        "- This simplifies to:  $\n",
        "r = ad - qbd = d(a - qb)\n",
        "$\n",
        "\n",
        "- Thus, $r$ must be of the form $cd$ for some integer $c$.\n",
        "\n",
        "### Key Points of Euclid’s Algorithm\n",
        "\n",
        "- If $n$ divides $m$, then:\n",
        "\n",
        "$$\n",
        "\\text{gcd}(m, n) = n\n",
        "$$\n",
        "- Otherwise, compute:\n",
        "$$\n",
        "\\text{gcd}(n, m \\mod n)\n",
        "$$"
      ],
      "metadata": {
        "id": "FSKZYVWv79TF"
      }
    },
    {
      "cell_type": "code",
      "source": [
        "def gcd(m, n):\n",
        "  (a, b) = (max(m, n), min(m, n))\n",
        "  if a % b == 0:\n",
        "    return b\n",
        "  else:\n",
        "    return gcd(b, a % b)"
      ],
      "metadata": {
        "id": "lAJ-e79--8Oz"
      },
      "execution_count": 1,
      "outputs": []
    },
    {
      "cell_type": "markdown",
      "source": [
        "Consider `gcd(2, 9999)`  \n",
        "→ `gcd(2, 9997)`  \n",
        "→ `gcd(2, 1)`   \n",
        "→ `gcd(2, 1)`  \n",
        "→ `1`\n",
        "\n",
        "only 4 steps"
      ],
      "metadata": {
        "id": "Di248p-d_iDp"
      }
    }
  ]
}
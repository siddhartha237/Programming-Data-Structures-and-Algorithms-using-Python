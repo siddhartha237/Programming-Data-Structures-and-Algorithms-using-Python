{
  "nbformat": 4,
  "nbformat_minor": 0,
  "metadata": {
    "colab": {
      "provenance": [],
      "authorship_tag": "ABX9TyPejFsPO/oWMCExgHYav84C",
      "include_colab_link": true
    },
    "kernelspec": {
      "name": "python3",
      "display_name": "Python 3"
    },
    "language_info": {
      "name": "python"
    }
  },
  "cells": [
    {
      "cell_type": "markdown",
      "metadata": {
        "id": "view-in-github",
        "colab_type": "text"
      },
      "source": [
        "<a href=\"https://colab.research.google.com/github/siddhartha237/Programming-Data-Structures-and-Algorithms-using-Python/blob/main/Python_Recap_I.ipynb\" target=\"_parent\"><img src=\"https://colab.research.google.com/assets/colab-badge.svg\" alt=\"Open In Colab\"/></a>"
      ]
    },
    {
      "cell_type": "code",
      "execution_count": null,
      "metadata": {
        "colab": {
          "base_uri": "https://localhost:8080/"
        },
        "id": "Gbu_nfhRq54H",
        "outputId": "1475d8de-d4fb-4f41-8e0b-57aaf0630106"
      },
      "outputs": [
        {
          "output_type": "execute_result",
          "data": {
            "text/plain": [
              "4"
            ]
          },
          "metadata": {},
          "execution_count": 2
        }
      ],
      "source": [
        "def gcd(m, n):\n",
        "  cf = [ ] # list of common factors\n",
        "  for i in range(1, min(m, n) + 1):\n",
        "    if m % i == 0 and n % i == 0:\n",
        "      cf.append(i)\n",
        "  return cf[-1]\n",
        "\n",
        "gcd(8, 12)"
      ]
    },
    {
      "cell_type": "code",
      "source": [
        "def gcd(m, n):\n",
        "  for i in range(1, min(m, n) + 1):\n",
        "    if m % i == 0 and n % i == 0:\n",
        "      mrcf = i\n",
        "  return mrcf\n",
        "\n",
        "gcd(8, 12)"
      ],
      "metadata": {
        "colab": {
          "base_uri": "https://localhost:8080/"
        },
        "id": "weRQeHgkrsWZ",
        "outputId": "970a5e29-a610-4589-bc45-1863c8d0b705"
      },
      "execution_count": null,
      "outputs": [
        {
          "output_type": "execute_result",
          "data": {
            "text/plain": [
              "4"
            ]
          },
          "metadata": {},
          "execution_count": 3
        }
      ]
    }
  ]
}
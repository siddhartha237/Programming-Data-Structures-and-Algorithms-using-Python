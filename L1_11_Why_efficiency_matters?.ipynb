{
  "nbformat": 4,
  "nbformat_minor": 0,
  "metadata": {
    "colab": {
      "provenance": [],
      "authorship_tag": "ABX9TyN9UANYXR179lPxHMY3XuM2",
      "include_colab_link": true
    },
    "kernelspec": {
      "name": "python3",
      "display_name": "Python 3"
    },
    "language_info": {
      "name": "python"
    }
  },
  "cells": [
    {
      "cell_type": "markdown",
      "metadata": {
        "id": "view-in-github",
        "colab_type": "text"
      },
      "source": [
        "<a href=\"https://colab.research.google.com/github/siddhartha237/Programming-Data-Structures-and-Algorithms-using-Python/blob/main/L1_11_Why_efficiency_matters%3F.ipynb\" target=\"_parent\"><img src=\"https://colab.research.google.com/assets/colab-badge.svg\" alt=\"Open In Colab\"/></a>"
      ]
    },
    {
      "cell_type": "markdown",
      "source": [
        "### **A Real-World Problem**\n",
        "\n",
        "Every SIM card needs to be linked to an Aadhaar card.\n",
        "\n",
        "#### **Problem**:\n",
        "\n",
        "Validate the Aadhaar details for each SIM card.\n",
        "\n",
        "#### Approach:\n",
        "\n",
        "Using a simple nested loop.\n",
        "\n",
        "- How long will this take?\n",
        "  - Let `M` be the number of SIM cards.\n",
        "  - Let `N` be the number of Aadhaar cards.\n",
        "  - The nested loops iterate **M · N** times.\n",
        "\n",
        "#### What are `M` and `N`?\n",
        "\n",
        "- Almost everyone in India has an Aadhaar card: **N > 10⁹**.\n",
        "- The number of SIM cards registered is similar: **M > 10⁹**.\n",
        "\n",
        "```python\n",
        "for each SIM card S:\n",
        "    for each Aadhaar number A:\n",
        "        check if Aadhaar details of S match A\n"
      ],
      "metadata": {
        "id": "qYFl8n2ZtI7l"
      }
    },
    {
      "cell_type": "markdown",
      "source": [
        "### **A Real-World Problem**\n",
        "\n",
        "#### Assumptions:\n",
        "- Let the number of SIM cards, `M = 10⁹`\n",
        "- Let the number of Aadhaar cards, `N = 10⁹`\n",
        "\n",
        "Using nested loops to check Aadhaar details for each SIM card will result in:\n",
        "\n",
        "- **Total iterations** = `M · N = 10⁹ · 10⁹ = 10¹⁸`\n",
        "\n",
        "#### Time Complexity:\n",
        "\n",
        "We calculated that Python can perform around `10⁷` operations per second.\n",
        "\n",
        "- **Time required**:\n",
        "  - Total operations: `10¹⁸`\n",
        "  - Time per operation: `1 / 10⁷` seconds\n",
        "\n",
        "Thus, the total time required is:\n",
        "\n",
        "- `10¹⁸ / 10⁷ = 10¹¹` seconds\n",
        "\n",
        "#### Converting Time Units:\n",
        "\n",
        "Let's convert this into more understandable units:\n",
        "\n",
        "- `10¹¹ / 60 ≈ 1.67 × 10⁹` minutes\n",
        "- `1.67 × 10⁹ / 60 ≈ 2.8 × 10⁷` hours\n",
        "- `2.8 × 10⁷ / 24 ≈ 1.17 × 10⁶` days\n",
        "- `1.17 × 10⁶ / 365 ≈ 3200` years!\n",
        "\n",
        "So, the operation would take around **3200 years** to complete using this approach!\n",
        "\n",
        "### How Can We Fix This?\n",
        "\n",
        "\n",
        "```python\n",
        "for each SIM card S:\n",
        "    for each Aadhaar number A:\n",
        "        check if Aadhaar details of S match A\n"
      ],
      "metadata": {
        "id": "EbCFxGaOty3l"
      }
    },
    {
      "cell_type": "markdown",
      "source": [
        "### **Optimizing the Problem Using a \"Guess My Birthday\" Approach**\n",
        "\n",
        "#### **Problem Setup:**\n",
        "\n",
        "To fix the issue of inefficiency in our brute-force approach, we can use a binary search-like strategy, similar to the game \"Guess My Birthday.\"\n",
        "\n",
        "Here’s how the game works:\n",
        "\n",
        "1. You propose a date.\n",
        "2. The answer could be one of:\n",
        "   - **Yes** (if the date is correct)\n",
        "   - **Earlier** (if the actual date is before the proposed date)\n",
        "   - **Later** (if the actual date is after the proposed date)\n",
        "\n",
        "#### Example Walkthrough:\n",
        "\n",
        "Suppose the birthday is **April 12**. The sequence of guesses could be:\n",
        "\n",
        "- **Guess 1**: September 12? → **Earlier**\n",
        "- **Guess 2**: February 23? → **Later**\n",
        "- **Guess 3**: July 2? → **Earlier**\n",
        "\n",
        "We progressively narrow down the range of possible dates by asking questions that halve the interval of possibilities.\n",
        "\n",
        "#### Best Strategy:\n",
        "\n",
        "To minimize the number of guesses, the best approach is to always guess the midpoint of the remaining interval. This is similar to how binary search works in computer science.\n",
        "\n",
        "#### How the Interval Shrinks:\n",
        "\n",
        "- Initial interval (365 days in a year):\n",
        "  - **Guess 4**: June 30? → **Earlier**\n",
        "  - **Guess 5**: March 31? → **Later**\n",
        "  - **Guess 6**: May 15? → **Earlier**\n",
        "  - **Guess 7**: April 22? → **Earlier**\n",
        "  - **Guess 8**: April 11? → **Later**\n",
        "  - **Guess 9**: April 16? → **Earlier**\n",
        "  - **Guess 10**: April 13? → **Earlier**\n",
        "  - **Guess 11**: April 12? → **Yes**\n",
        "\n",
        "With each guess, the interval of possible dates is halved:\n",
        "\n",
        "- Initial interval = **365 days**\n",
        "- After Guess 1: Interval shrinks to **182 days**\n",
        "- After Guess 2: Interval shrinks to **91 days**\n",
        "- After Guess 3: Interval shrinks to **45 days**\n",
        "- After Guess 4: Interval shrinks to **22 days**\n",
        "- After Guess 5: Interval shrinks to **11 days**\n",
        "- After Guess 6: Interval shrinks to **5 days**\n",
        "- After Guess 7: Interval shrinks to **2 days**\n",
        "- After Guess 8: Interval shrinks to **1 day**\n",
        "\n",
        "You can find the correct date in **under 10 questions**!\n",
        "\n",
        "#### Applying This Strategy to Aadhaar-SIM Matching:\n",
        "\n",
        "In the context of matching SIM cards to Aadhaar cards, we can apply a similar **binary search strategy**. Instead of checking each Aadhaar card for each SIM card (as done with the nested loop), we can:\n",
        "\n",
        "1. **Sort both datasets** (SIM cards and Aadhaar cards).\n",
        "2. For each SIM card, use **binary search** to find the corresponding Aadhaar card, significantly reducing the number of comparisons.\n",
        "\n",
        "This approach would shrink the number of comparisons from **M · N = 10¹⁸** (brute-force) to **O(M log N)** — a much more feasible solution.\n"
      ],
      "metadata": {
        "id": "spdBFHmiuqqc"
      }
    },
    {
      "cell_type": "code",
      "source": [],
      "metadata": {
        "id": "646ew9Thvs_B"
      },
      "execution_count": null,
      "outputs": []
    },
    {
      "cell_type": "markdown",
      "source": [
        "### **Real-World Problem: Checking Aadhaar Details Using SIM Cards**\n",
        "\n",
        "### **Scenario**:  \n",
        "Assume that Aadhaar details are sorted by Aadhaar numbers. We want to verify the Aadhaar details for each SIM card using a halving strategy. Here's how it works:\n",
        "\n",
        "### **Using the Halving Strategy**\n",
        "\n",
        "To understand this, let's start with the idea of halving. By halving the search space in each step, we drastically reduce the number of queries needed.\n",
        "\n",
        "- Halving $10$ times reduces the interval by a factor of $1000$ because $2^{10} = 1024$. This means after 10 queries, the interval shrinks from the total dataset to about $1/1000$th of the size.\n",
        "- After 20 queries, the interval is reduced further by a factor of $2^{20} \\approx 10^3$, meaning the search space has shrunk to about $1/1000$th again, now down to 1 in 1000 Aadhaar numbers.\n",
        "- After 30 queries, the interval shrinks to 1 (effectively finding the exact Aadhaar number).\n",
        "\n",
        "### Total Time for Each SIM Card\n",
        "\n",
        "For each SIM card (denoted as **S**), we need to:\n",
        "\n",
        "- Probe the sorted Aadhaar list to check the Aadhaar details of **S**.\n",
        "  \n",
        "  Using the halving method, this takes approximately:\n",
        "\n",
        "  - 30 queries to pinpoint the Aadhaar number for a single SIM card.\n",
        "\n",
        "- Total time = $10^9 \\times 30$ seconds (for a large-scale operation), translating into **3000 seconds** or about **50 minutes**.\n",
        "\n",
        "### From 3200 Years to 50 Minutes!\n",
        "\n",
        "By using the halving strategy on a **sorted** Aadhaar list, we go from a brute-force approach (which would take about **3200 years** for massive datasets) to just **50 minutes**. This shows the power of efficient algorithms combined with well-structured data.\n",
        "\n",
        "### Key Insight: Algorithms and Data Structures Matter\n",
        "\n",
        "In this case, the improvement is achieved by both:\n",
        "\n",
        "1. Sorting the Aadhaar details beforehand.\n",
        "2. Applying an efficient search algorithm (binary search using halving).\n",
        "\n",
        "This combination dramatically reduces the time required to verify Aadhaar details for SIM cards. Sorting the data and choosing the right algorithm can turn an otherwise intractable problem into one that is solvable in a reasonable amount of time.\n"
      ],
      "metadata": {
        "id": "F106_ZLSvjED"
      }
    }
  ]
}
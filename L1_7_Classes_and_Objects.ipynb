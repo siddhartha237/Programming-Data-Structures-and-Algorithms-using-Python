{
  "nbformat": 4,
  "nbformat_minor": 0,
  "metadata": {
    "colab": {
      "provenance": [],
      "authorship_tag": "ABX9TyNmfUexTFKJsjT+IQHNDs5w",
      "include_colab_link": true
    },
    "kernelspec": {
      "name": "python3",
      "display_name": "Python 3"
    },
    "language_info": {
      "name": "python"
    }
  },
  "cells": [
    {
      "cell_type": "markdown",
      "metadata": {
        "id": "view-in-github",
        "colab_type": "text"
      },
      "source": [
        "<a href=\"https://colab.research.google.com/github/siddhartha237/Programming-Data-Structures-and-Algorithms-using-Python/blob/main/L1_7_Classes_and_Objects.ipynb\" target=\"_parent\"><img src=\"https://colab.research.google.com/assets/colab-badge.svg\" alt=\"Open In Colab\"/></a>"
      ]
    },
    {
      "cell_type": "markdown",
      "source": [
        "### **Classes and Objects**\n",
        "\n",
        "An **Abstract Data Type (ADT)** is a concept used to define a data structure's behavior (what it does) without specifying how it's implemented (how it does it). This allows the programmer to focus on **what operations** can be performed on the data, while keeping the actual implementation details hidden.\n",
        "\n",
        "---\n",
        "\n",
        "#### **Example: Stack**\n",
        "\n",
        "A **stack** is a type of ADT that follows the **Last-In, First-Out (LIFO)** principle. The operations on a stack include:\n",
        "\n",
        "- **`push()`**: Adds an item to the top of the stack.\n",
        "- **`pop()`**: Removes the item from the top of the stack.\n",
        "\n",
        "---\n",
        "\n",
        "#### **Separation of Implementation**\n",
        "\n",
        "- The **private implementation** refers to how the data (stack) is stored internally.\n",
        "- The **public specification** is the interface through which the user interacts with the stack (functions like `push()` and `pop()`).\n",
        "\n"
      ],
      "metadata": {
        "id": "uCVgLU9pOWIg"
      }
    },
    {
      "cell_type": "code",
      "execution_count": 1,
      "metadata": {
        "colab": {
          "base_uri": "https://localhost:8080/"
        },
        "id": "1Ln9mSPTM397",
        "outputId": "da46c44f-8faa-45a8-e6c2-02f17ae809e8"
      },
      "outputs": [
        {
          "output_type": "stream",
          "name": "stdout",
          "text": [
            "20\n"
          ]
        }
      ],
      "source": [
        "class Stack:\n",
        "    def __init__(self):\n",
        "        self.items = []  # Private implementation (data storage)\n",
        "\n",
        "    def push(self, item):\n",
        "        self.items.append(item)  # Public function to add an item\n",
        "\n",
        "    def pop(self):\n",
        "        return self.items.pop()  # Public function to remove the top item\n",
        "\n",
        "# Usage\n",
        "my_stack = Stack()\n",
        "my_stack.push(10)\n",
        "my_stack.push(20)\n",
        "print(my_stack.pop())  # Output: 20"
      ]
    },
    {
      "cell_type": "markdown",
      "source": [
        "### **Class**\n",
        "\n",
        "A **class** is a template for creating data types in object-oriented programming. It defines:\n",
        "\n",
        "- **How data is stored** (data members or attributes).\n",
        "- **How public functions** (methods) can manipulate that data.\n",
        "\n",
        "Think of a class as a **blueprint** for an object. It describes the general properties and methods that objects created from the class will have.\n",
        "\n",
        "---\n",
        "\n",
        "#### **Example: Defining a Class**\n",
        "\n"
      ],
      "metadata": {
        "id": "JA6N2JtrQHBu"
      }
    },
    {
      "cell_type": "code",
      "source": [
        "class Car:\n",
        "    def __init__(self, make, model):\n",
        "        self.make = make  # How data is stored\n",
        "        self.model = model\n",
        "\n",
        "    def display(self):\n",
        "        return f\"Car: {self.make}, {self.model}\"  # Public function to manipulate data\n",
        "\n",
        "# Creating an instance (object) of the Car class\n",
        "my_car = Car(\"Toyota\", \"Corolla\")\n",
        "print(my_car.display())  # Output: Car: Toyota, Corolla"
      ],
      "metadata": {
        "colab": {
          "base_uri": "https://localhost:8080/"
        },
        "id": "WA1dm1O3QPjD",
        "outputId": "44f4e5fd-ea27-4adf-b964-34b630e8d405"
      },
      "execution_count": 2,
      "outputs": [
        {
          "output_type": "stream",
          "name": "stdout",
          "text": [
            "Car: Toyota, Corolla\n"
          ]
        }
      ]
    },
    {
      "cell_type": "markdown",
      "source": [
        "### **Object**\n",
        "\n",
        "An **object** is a concrete instance of a class. Once a class is defined, we can create multiple objects from it, each representing a specific instance with its own set of data.\n",
        "\n",
        "For example, after defining the `Car` class, we can create two objects representing two different cars:\n",
        "\n",
        "\n"
      ],
      "metadata": {
        "id": "4XB3fac5Qo1E"
      }
    },
    {
      "cell_type": "code",
      "source": [
        "car1 = Car(\"Honda\", \"Civic\")\n",
        "car2 = Car(\"Tesla\", \"Model S\")\n",
        "\n",
        "print(car1.display())  # Output: Car: Honda, Civic\n",
        "print(car2.display())  # Output: Car: Tesla, Model S"
      ],
      "metadata": {
        "colab": {
          "base_uri": "https://localhost:8080/"
        },
        "id": "fAoBZzPZQr1T",
        "outputId": "72b92788-1538-436a-9717-8100681168e8"
      },
      "execution_count": 3,
      "outputs": [
        {
          "output_type": "stream",
          "name": "stdout",
          "text": [
            "Car: Honda, Civic\n",
            "Car: Tesla, Model S\n"
          ]
        }
      ]
    },
    {
      "cell_type": "markdown",
      "source": [
        "Each object (`car1`, `car2`) is an independent instance of the `Car` class with its own data (`make` and `model`), but they share the same structure and behaviors as defined in the class.\n"
      ],
      "metadata": {
        "id": "TUZJ50DDQ6z9"
      }
    },
    {
      "cell_type": "markdown",
      "source": [
        "### **Example: 2D Points**\n",
        "\n",
        "A `Point` class is used to represent a 2D point with coordinates `(x, y)`.\n",
        "\n",
        "The `__init__()` function is a **constructor**. It initializes the internal values of a point, such as the `x` and `y` coordinates. In the example:"
      ],
      "metadata": {
        "id": "nbAuMFcaUKmz"
      }
    },
    {
      "cell_type": "code",
      "source": [
        "class Point:\n",
        "    def __init__(self, a=0, b=0):\n",
        "        self.x = a\n",
        "        self.y = b"
      ],
      "metadata": {
        "id": "iat-GXcHUKTt"
      },
      "execution_count": 4,
      "outputs": []
    },
    {
      "cell_type": "markdown",
      "source": [
        "Here, the coordinates default to `(0, 0)` if no values are provided during the creation of a point."
      ],
      "metadata": {
        "id": "LL9yw1O5Upfw"
      }
    },
    {
      "cell_type": "markdown",
      "source": [
        "The method translate `(self, deltax, deltay)` shifts the point by `(deltax, deltay)`:\n",
        "  \n",
        "  **Translation: Shift a point by (∆x, ∆y)**\n",
        "\n",
        "$(x, y) \\mapsto (x + \\Delta x, y + \\Delta y)$"
      ],
      "metadata": {
        "id": "7sy5PMSSaxA_"
      }
    },
    {
      "cell_type": "code",
      "source": [
        "def translate(self, deltax, deltay):\n",
        "    self.x += deltax\n",
        "    self.y += deltay"
      ],
      "metadata": {
        "id": "QdurNoBnUmXg"
      },
      "execution_count": 5,
      "outputs": []
    },
    {
      "cell_type": "markdown",
      "source": [
        "For instance, if you translate a point at `(2, 3)` by `(1, -1)`, it moves to `(3, 2)`."
      ],
      "metadata": {
        "id": "3lbJSwq-bAJ0"
      }
    },
    {
      "cell_type": "markdown",
      "source": [
        "The method odistance `(self)` calculates the distance of the point from the origin `(0, 0)`:\n",
        "- This uses the Pythagorean theorem to compute the distance.\n",
        "- **Distance from the origin**   $ d = \\sqrt{x^2 + y^2}$"
      ],
      "metadata": {
        "id": "M1KNdh7hbpNi"
      }
    },
    {
      "cell_type": "code",
      "source": [
        "def odistance(self):\n",
        "    import math\n",
        "    d = math.sqrt(self.x*self.x + self.y*self.y)\n",
        "    return d"
      ],
      "metadata": {
        "id": "ODmz9Cfyb0Xj"
      },
      "execution_count": 6,
      "outputs": []
    },
    {
      "cell_type": "markdown",
      "source": [
        "## **Polar Coordinates**\n",
        "\n",
        "Polar coordinates $(r, \\theta)$ represent points in a two-dimensional space in terms of a radius $r$ and an angle $\\theta$ instead of Cartesian coordinates $(x, y)$.\n",
        "\n",
        "### **Definitions**\n",
        "\n",
        "- **Radius $r$**: The distance from the origin to the point.\n",
        "  $\n",
        "  r = \\sqrt{x^2 + y^2}\n",
        "  $\n",
        "\n",
        "- **Angle $\\theta$**: The angle formed with the positive x-axis.\n",
        "  $\n",
        "  \\theta = \\tan^{-1}\\left(\\frac{y}{x}\\right)\n",
        "  $\n",
        "\n",
        "### **Python Class Implementation**\n",
        "\n",
        "Below is a Python class that represents a point in polar coordinates:\n",
        "\n"
      ],
      "metadata": {
        "id": "-98fm2Cld4M_"
      }
    },
    {
      "cell_type": "code",
      "source": [
        "import math\n",
        "\n",
        "class Point:\n",
        "    def __init__(self, a=0, b=0):\n",
        "        # Calculate the distance from the origin (r)\n",
        "        self.r = math.sqrt(a * a + b * b)\n",
        "\n",
        "        # Calculate the angle (θ) in radians\n",
        "        if a == 0:\n",
        "            self.theta = math.pi / 2  # Handle vertical line case\n",
        "        else:\n",
        "            self.theta = math.atan(b / a)\n",
        "\n",
        "    def odistance(self):\n",
        "        # Return the distance from the origin\n",
        "        return self.r"
      ],
      "metadata": {
        "id": "Ek0fpGYZeSrh"
      },
      "execution_count": 7,
      "outputs": []
    },
    {
      "cell_type": "markdown",
      "source": [
        "## **Conversion Between Polar and Cartesian Coordinates**\n",
        "\n",
        "### **Conversion from Polar to Cartesian**\n",
        "\n",
        "To convert from polar coordinates $(r, \\theta)$ to Cartesian coordinates $(x, y)$, you can use the following formulas:\n",
        "\n",
        "- $ x = r \\cdot \\cos(\\theta) $\n",
        "- $ y = r \\cdot \\sin(\\theta) $\n",
        "\n",
        "### **Recomputing Polar Coordinates**\n",
        "\n",
        "If the Cartesian coordinates are modified by a small change, such that the new coordinates are $(x + \\Delta x, y + \\Delta y)$, you can recompute the polar coordinates $r$ and $\\theta$ using:\n",
        "\n",
        "1. **New Radius**:\n",
        "   $\n",
        "   r' = \\sqrt{(x + \\Delta x)^2 + (y + \\Delta y)^2}\n",
        "   $\n",
        "\n",
        "2. **New Angle**:\n",
        "   $\n",
        "   \\theta' = \\tan^{-1}\\left(\\frac{y + \\Delta y}{x + \\Delta x}\\right)\n",
        "   $\n",
        "\n",
        "### **Interface Consistency**\n",
        "\n",
        "The interface remains unchanged for the user, meaning they do not need to be aware of whether the representation of the coordinates is in Cartesian $(x, y)$ or polar $(r, \\theta)$. This abstraction allows for seamless interaction without needing to understand the underlying representation.\n"
      ],
      "metadata": {
        "id": "CxUbsrdNo20h"
      }
    },
    {
      "cell_type": "code",
      "source": [
        "import math\n",
        "\n",
        "class Point:\n",
        "    def __init__(self, a=0, b=0):\n",
        "        # Calculate the distance from the origin (r)\n",
        "        self.r = math.sqrt(a * a + b * b)\n",
        "\n",
        "        # Calculate the angle (θ) in radians\n",
        "        if a == 0:\n",
        "            self.theta = math.pi / 2  # Handle vertical line case\n",
        "        else:\n",
        "            self.theta = math.atan(b / a)\n",
        "\n",
        "    def odistance(self):\n",
        "        # Return the distance from the origin\n",
        "        return self.r\n",
        "\n",
        "    def translate(self, deltax, deltay):\n",
        "        # Convert polar coordinates (r, θ) to Cartesian coordinates (x, y)\n",
        "        x = self.r * math.cos(self.theta)\n",
        "        y = self.r * math.sin(self.theta)\n",
        "\n",
        "        # Apply the translation by adding deltax and deltay\n",
        "        x += deltax\n",
        "        y += deltay\n",
        "\n",
        "        # Recompute the polar radius (r) from the new Cartesian coordinates\n",
        "        self.r = math.sqrt(x * x + y * y)\n",
        "\n",
        "        # Recompute the polar angle (θ)\n",
        "        if x == 0:\n",
        "            self.theta = math.pi / 2  # Handle the case where x is zero\n",
        "        else:\n",
        "            self.theta = math.atan(y / x)  # Calculate θ using the arctangent\n",
        "\n",
        "# Example usage\n",
        "point = Point(3, 4)  # Create a point with Cartesian coordinates (3, 4)\n",
        "print(f\"Original polar coordinates: r = {point.r}, θ = {point.theta}\")\n",
        "\n",
        "# Translate the point by (2, 1)\n",
        "point.translate(2, 1)\n",
        "print(f\"New polar coordinates after translation: r = {point.r}, θ = {point.theta}\")\n"
      ],
      "metadata": {
        "colab": {
          "base_uri": "https://localhost:8080/"
        },
        "id": "yXIjIir3pxR9",
        "outputId": "840970aa-ddf1-49d0-e767-9d0823353d9e"
      },
      "execution_count": 9,
      "outputs": [
        {
          "output_type": "stream",
          "name": "stdout",
          "text": [
            "Original polar coordinates: r = 5.0, θ = 0.9272952180016122\n",
            "New polar coordinates after translation: r = 7.0710678118654755, θ = 0.7853981633974483\n"
          ]
        }
      ]
    },
    {
      "cell_type": "markdown",
      "source": [
        "### **Special Functions in Python Classes**\n",
        "\n",
        "In Python, you can define special functions (also known as magic methods) in your classes to enable specific behaviors. Here are some commonly used special functions:\n",
        "\n",
        "- `__init__()`: Constructor method that initializes the object.\n",
        "- `__str__()`: Converts the object to a string, allowing for a readable representation.\n",
        "  - Implicitly invoked by the `print()` function.\n",
        "- `__add__()`: Defines behavior for the `+` operator.\n",
        "- `__mul__()`: Defines behavior for the `*` operator.\n",
        "- `__lt__()`: Defines behavior for the `<` operator.\n",
        "- `__ge__()`: Defines behavior for the `>=` operator.\n",
        "- ...and many more.\n",
        "\n",
        "#### **Example: Point Class**\n",
        "\n",
        "Below is an example of a `Point` class that demonstrates the use of these special functions:\n",
        "\n"
      ],
      "metadata": {
        "id": "0kc9EpF8rMJM"
      }
    },
    {
      "cell_type": "code",
      "source": [
        "class Point:\n",
        "    def __init__(self, x=0, y=0):\n",
        "        # Constructor to initialize x and y coordinates\n",
        "        self.x = x\n",
        "        self.y = y\n",
        "\n",
        "    def __str__(self):\n",
        "        # Return a string representation of the Point object\n",
        "        return '(' + str(self.x) + ', ' + str(self.y) + ')'\n",
        "\n",
        "    def __add__(self, p):\n",
        "        # Define behavior for the + operator\n",
        "        return Point(self.x + p.x, self.y + p.y)\n",
        "\n",
        "# Example usage\n",
        "point1 = Point(2, 3)\n",
        "point2 = Point(4, 5)\n",
        "\n",
        "print(\"Point 1:\", point1)         # Implicitly calls __str__()\n",
        "print(\"Point 2:\", point2)         # Implicitly calls __str__()\n",
        "\n",
        "point3 = point1 + point2          # Implicitly calls __add__()\n",
        "print(\"Point 3 (sum):\", point3)   # Implicitly calls __str__()"
      ],
      "metadata": {
        "colab": {
          "base_uri": "https://localhost:8080/"
        },
        "id": "s3GahZwEroh1",
        "outputId": "ed6012d6-4588-4a54-d523-3916b93dbbf9"
      },
      "execution_count": 10,
      "outputs": [
        {
          "output_type": "stream",
          "name": "stdout",
          "text": [
            "Point 1: (2, 3)\n",
            "Point 2: (4, 5)\n",
            "Point 3 (sum): (6, 8)\n"
          ]
        }
      ]
    }
  ]
}